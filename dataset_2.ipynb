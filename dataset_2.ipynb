{
 "cells": [
  {
   "cell_type": "code",
   "execution_count": 93,
   "metadata": {},
   "outputs": [],
   "source": [
    "import random\n",
    "import json\n",
    "import glob\n",
    "import pickle\n",
    "from collections import Counter\n",
    "import re\n",
    "import torch\n",
    "import pandas as pd\n",
    "import nltk \n",
    "from datasets import load_dataset\n",
    "from torch.utils.data import Dataset, DataLoader\n",
    "from tqdm import tqdm\n",
    "import argparse\n",
    "import logging"
   ]
  },
  {
   "cell_type": "code",
   "execution_count": 94,
   "metadata": {},
   "outputs": [],
   "source": [
    "MAX_SEQ_LEN = 512"
   ]
  },
  {
   "cell_type": "code",
   "execution_count": 95,
   "metadata": {},
   "outputs": [],
   "source": [
    "hf_dataset = load_dataset(\"roneneldan/TinyStories\")"
   ]
  },
  {
   "cell_type": "code",
   "execution_count": 96,
   "metadata": {},
   "outputs": [],
   "source": [
    "train_data = hf_dataset['train']\n",
    "val_data = hf_dataset['validation']"
   ]
  },
  {
   "cell_type": "code",
   "execution_count": 97,
   "metadata": {},
   "outputs": [
    {
     "name": "stderr",
     "output_type": "stream",
     "text": [
      "Processing train data: 100%|██████████| 1059/1059 [00:00<00:00, 1416.93it/s]\n",
      "Processing val data: 100%|██████████| 109/109 [00:00<00:00, 1862.31it/s]\n"
     ]
    }
   ],
   "source": [
    "train_stories = []\n",
    "val_stories = []\n",
    "\n",
    "max_len = 0\n",
    "word_count = {}\n",
    "\n",
    "for i in tqdm(range(int(0.0005 * len(train_data))), desc='Processing train data'):\n",
    "    story = train_data[i]['text']\n",
    "    story = story.lower()\n",
    "    story = re.sub(r'[^a-zA-Z\\s]', ' ', story)\n",
    "    story = re.sub(r'\\s+', ' ', story)\n",
    "\n",
    "    story = story.strip()\n",
    "    story = nltk.word_tokenize(story)\n",
    "    story = ['<bos>'] + story + ['<eos>']\n",
    "\n",
    "    for word in story:\n",
    "        if word in word_count:\n",
    "            word_count[word] += 1\n",
    "        else:\n",
    "            word_count[word] = 1\n",
    "\n",
    "    train_stories.append(story)\n",
    "\n",
    "    if len(story) > max_len:\n",
    "        max_len = len(story)\n",
    "\n",
    "val_stories = []\n",
    "for i in tqdm(range(int(0.005 * len(val_data))), desc='Processing val data'):\n",
    "    story = val_data[i]['text']\n",
    "    story = story.lower()\n",
    "    story = re.sub(r'[^a-zA-Z\\s]', ' ', story)\n",
    "    story = re.sub(r'\\s+', ' ', story)\n",
    "\n",
    "    story = story.strip()\n",
    "    story = nltk.word_tokenize(story)\n",
    "    story = ['<bos>'] + story + ['<eos>']\n",
    "\n",
    "    for word in story:\n",
    "        if word in word_count:\n",
    "            word_count[word] += 1\n",
    "        else:\n",
    "            word_count[word] = 1\n",
    "\n",
    "    val_stories.append(story)\n",
    "\n",
    "    if len(story) > max_len:\n",
    "        max_len = len(story)"
   ]
  },
  {
   "cell_type": "code",
   "execution_count": 98,
   "metadata": {},
   "outputs": [
    {
     "data": {
      "text/plain": [
       "839"
      ]
     },
     "execution_count": 98,
     "metadata": {},
     "output_type": "execute_result"
    }
   ],
   "source": [
    "max_len"
   ]
  },
  {
   "cell_type": "code",
   "execution_count": 99,
   "metadata": {},
   "outputs": [],
   "source": [
    "vocab_file = None\n",
    "\n",
    "if vocab_file is not None:\n",
    "    with open(vocab_file, 'rb') as f:\n",
    "        vocab = pickle.load(f)\n",
    "\n",
    "else:\n",
    "    vocab = {}\n",
    "    vocab['<bos>'] = len(vocab)\n",
    "    vocab['<eos>'] = len(vocab)\n",
    "    vocab['<pad>'] = len(vocab)\n",
    "    vocab['<unk>'] = len(vocab)\n",
    "\n",
    "    for data in [train_stories, val_stories]:\n",
    "        for story in data:\n",
    "            for word in story:\n",
    "                if word_count[word] >= 5 and word not in vocab.keys():\n",
    "                    vocab[word] = len(vocab)"
   ]
  },
  {
   "cell_type": "code",
   "execution_count": 100,
   "metadata": {},
   "outputs": [
    {
     "name": "stdout",
     "output_type": "stream",
     "text": [
      "2407\n",
      "{'<bos>': 0, '<eos>': 1, '<pad>': 2, '<unk>': 3, 'one': 4, 'day': 5, 'a': 6, 'little': 7, 'girl': 8, 'named': 9, 'lily': 10, 'found': 11, 'needle': 12, 'in': 13, 'her': 14, 'room': 15, 'she': 16, 'knew': 17, 'it': 18, 'was': 19, 'difficult': 20, 'to': 21, 'play': 22, 'with': 23, 'because': 24, 'sharp': 25, 'wanted': 26, 'share': 27, 'the': 28, 'mom': 29, 'so': 30, 'could': 31, 'button': 32, 'on': 33, 'shirt': 34, 'went': 35, 'and': 36, 'said': 37, 'i': 38, 'this': 39, 'can': 40, 'you': 41, 'me': 42, 'my': 43, 'smiled': 44, 'yes': 45, 'we': 46, 'fix': 47, 'your': 48, 'together': 49, 'they': 50, 'shared': 51, 's': 52, 'not': 53, 'for': 54, 'them': 55, 'were': 56, 'sharing': 57, 'helping': 58, 'each': 59, 'other': 60, 'after': 61, 'finished': 62, 'thanked': 63, 'both': 64, 'felt': 65, 'happy': 66, 'had': 67, 'worked': 68, 'once': 69, 'upon': 70, 'time': 71, 'there': 72, 'car': 73, 'beep': 74, 'loved': 75, 'go': 76, 'fast': 77, 'sun': 78, 'healthy': 79, 'he': 80, 'always': 81, 'good': 82, 'fuel': 83, 'made': 84, 'strong': 85, 'driving': 86, 'park': 87, 'when': 88, 'saw': 89, 'big': 90, 'tree': 91, 'many': 92, 'leaves': 93, 'that': 94, 'falling': 95, 'liked': 96, 'how': 97, 'fall': 98, 'drove': 99, 'under': 100, 'watched': 101, 'him': 102, 'laughed': 103, 'his': 104, 'played': 105, 'all': 106, 'home': 107, 'needed': 108, 'more': 109, 'place': 110, 'got': 111, 'now': 112, 'ready': 113, 'again': 114, 'next': 115, 'lived': 116, 'happily': 117, 'ever': 118, 'fish': 119, 'fin': 120, 'swimming': 121, 'near': 122, 'shore': 123, 'crab': 124, 'be': 125, 'friends': 126, 'hi': 127, 'am': 128, 'do': 129, 'want': 130, 'asked': 131, 'looked': 132, 'at': 133, 'no': 134, 'don': 135, 't': 136, 'cold': 137, 'feel': 138, 'fine': 139, 'sad': 140, 'but': 141, 'help': 142, 'better': 143, 'swam': 144, 'away': 145, 'thought': 146, 'of': 147, 'plan': 148, 'remembered': 149, 'make': 150, 'things': 151, 'warm': 152, 'top': 153, 'water': 154, 'called': 155, 'please': 156, 'new': 157, 'friend': 158, 'freeze': 159, 'heard': 160, 'call': 161, 'shone': 162, 'its': 163, 'light': 164, 'started': 165, 'thank': 166, 'making': 167, 'like': 168, 'will': 169, 'let': 170, 'became': 171, 'land': 172, 'full': 173, 'trees': 174, 'cherry': 175, 'very': 176, 'did': 177, 'have': 178, 'any': 179, 'small': 180, 'weak': 181, 'envious': 182, 'branches': 183, 'spring': 184, 'wind': 185, 'told': 186, 'are': 187, 'special': 188, 'sweet': 189, 'everyone': 190, 'loves': 191, 'as': 192, 'grew': 193, 'animals': 194, 'came': 195, 'eat': 196, 'learned': 197, 'being': 198, 'different': 199, 'thing': 200, 'pretend': 201, 'popular': 202, 'princess': 203, 'castle': 204, 'best': 205, 'cat': 206, 'dog': 207, 'while': 208, 'playing': 209, 'way': 210, 'fun': 211, 'game': 212, 'get': 213, 'scared': 214, 'spider': 215, 'clean': 216, 'outside': 217, 'without': 218, 'lake': 219, 'brown': 220, 'kayak': 221, 'roll': 222, 'long': 223, 'splash': 224, 'boy': 225, 'tim': 226, 'rolled': 227, 'lot': 228, 'shining': 229, 'goodbye': 230, 'gave': 231, 'hug': 232, 'see': 233, 'would': 234, 'soon': 235, 'kept': 236, 'waiting': 237, 'town': 238, 'troubled': 239, 'lost': 240, 'favorite': 241, 'toy': 242, 'triangle': 243, 'everywhere': 244, 'house': 245, 'find': 246, 'sunny': 247, 'puddle': 248, 'might': 249, 'put': 250, 'hand': 251, 'something': 252, 'bottom': 253, 'pulled': 254, 'out': 255, 'from': 256, 'never': 257, 'every': 258, 'close': 259, 'puddles': 260, 'smile': 261, 'remember': 262, 'peaceful': 263, 'run': 264, 'race': 265, 'excited': 266, 'join': 267, 'sarah': 268, 'start': 269, 'up': 270, 'kids': 271, 'waited': 272, 'word': 273, 'running': 274, 'ran': 275, 'their': 276, 'speed': 277, 'laughing': 278, 'having': 279, 'hair': 280, 'raced': 281, 'finish': 282, 'line': 283, 'end': 284, 'won': 285, 'second': 286, 'proud': 287, 'themselves': 288, 'celebrated': 289, 'great': 290, 'clever': 291, 'max': 292, 'fell': 293, 'hurt': 294, 'knee': 295, 'wise': 296, 'old': 297, 'owl': 298, 'hurts': 299, 'what': 300, 'moment': 301, 'should': 302, 'test': 303, 'try': 304, 'walk': 305, 'slowly': 306, 'if': 307, 'still': 308, 'by': 309, 'walking': 310, 'first': 311, 'pain': 312, 'sometimes': 313, 'slow': 314, 'down': 315, 'listen': 316, 'body': 317, 'driver': 318, 'ride': 319, 'loud': 320, 'street': 321, 'sam': 322, 'standing': 323, 'road': 324, 'around': 325, 'going': 326, 'hear': 327, 'coming': 328, 'last': 329, 'stopped': 330, 'until': 331, 'dependable': 332, 'important': 333, 'job': 334, 'take': 335, 'family': 336, 'dad': 337, 'love': 338, 'sign': 339, 'today': 340, 'win': 341, 'decided': 342, 'cars': 343, 'tried': 344, 'catch': 345, 'too': 346, 'quick': 347, 'trust': 348, 'even': 349, 'knowing': 350, 'fastest': 351, 'most': 352, 'wear': 353, 'dark': 354, 'hat': 355, 'wore': 356, 'pencil': 357, 'ground': 358, 'yellow': 359, 'took': 360, 'drew': 361, 'pictures': 362, 'mia': 363, 'scary': 364, 'tall': 365, 'door': 366, 'windows': 367, 'brave': 368, 'inside': 369, 'birdcage': 370, 'bird': 371, 'fly': 372, 'free': 373, 'opened': 374, 'flew': 375, 'anymore': 376, 'amy': 377, 'sleepy': 378, 'pajamas': 379, 'bed': 380, 'middle': 381, 'night': 382, 'soft': 383, 'sound': 384, 'eyes': 385, 'friendly': 386, 'ghost': 387, 'hello': 388, 'here': 389, 'pick': 390, 'dream': 391, 'course': 392, 'picked': 393, 'about': 394, 'lots': 395, 're': 396, 'welcome': 397, 'back': 398, 'sleep': 399, 'enjoy': 400, 'closed': 401, 'feeling': 402, 'safe': 403, 'wonderful': 404, 'thanks': 405, 'kind': 406, 'visit': 407, 'dreams': 408, 'forest': 409, 'tiny': 410, 'mushroom': 411, 'alone': 412, 'harsh': 413, 'hide': 414, 'bunny': 415, 'hopping': 416, 'sure': 417, 'realized': 418, 'dug': 419, 'hole': 420, 'cool': 421, 'queen': 422, 'nice': 423, 'pretty': 424, 'work': 425, 'relax': 426, 'sat': 427, 'green': 428, 'grass': 429, 'bug': 430, 'disgusting': 431, 'white': 432, 'fluffy': 433, 'timmy': 434, 'chase': 435, 'school': 436, 'teach': 437, 'is': 438, 'repeat': 439, 'say': 440, 'clapped': 441, 'hands': 442, 'learning': 443, 'words': 444, 'where': 445, 'octopus': 446, 'deep': 447, 'blue': 448, 'sea': 449, 'reliable': 450, 'jug': 451, 'pour': 452, 'couldn': 453, 'agree': 454, 'who': 455, 'then': 456, 'an': 457, 'idea': 458, 'poured': 459, 'silly': 460, 'tom': 461, 'hoop': 462, 'yard': 463, 'hard': 464, 'smaller': 465, 'stretch': 466, 'just': 467, 'right': 468, 'size': 469, 'jumped': 470, 'through': 471, 'chased': 472, 'much': 473, 'story': 474, 'polite': 475, 'met': 476, 'know': 477, 'showed': 478, 'forever': 479, 'pole': 480, 'lend': 481, 'careful': 482, 'river': 483, 'yummy': 484, 'broke': 485, 'broken': 486, 'sorry': 487, 'selfish': 488, 'others': 489, 'brought': 490, 'bag': 491, 'vegetables': 492, 'explain': 493, 'why': 494, 'need': 495, 'these': 496, 'our': 497, 'keep': 498, 'himself': 499, 'hid': 500, 'food': 501, 'knocked': 502, 'ate': 503, 'sick': 504, 'wished': 505, 'listened': 506, 'late': 507, 'gone': 508, 'bad': 509, 'sue': 510, 'rainbow': 511, 'snail': 512, 'garden': 513, 'laugh': 514, 'clap': 515, 'helpful': 516, 'read': 517, 'books': 518, 'spend': 519, 'book': 520, 'bear': 521, 'helped': 522, 'teacher': 523, 'classroom': 524, 'also': 525, 'or': 526, 'spent': 527, 'moral': 528, 'build': 529, 'birthday': 530, 'present': 531, 'worried': 532, 'didn': 533, 'some': 534, 'boxes': 535, 'paper': 536, 'bow': 537, 'look': 538, 'gift': 539, 'longer': 540, 'whale': 541, 'mysterious': 542, 'face': 543, 'lay': 544, 'waves': 545, 'rock': 546, 'baby': 547, 'swim': 548, 'beautiful': 549, 'quiet': 550, 'spot': 551, 'colorful': 552, 'plants': 553, 'secret': 554, 'smelly': 555, 'shiny': 556, 'coin': 557, 'closer': 558, 'mouse': 559, 'must': 560, 'agreed': 561, 'places': 562, 'happen': 563, 'give': 564, 'hugged': 565, 'ball': 566, 'tired': 567, 'wait': 568, 'come': 569, 'boat': 570, 'red': 571, 'jump': 572, 'wow': 573, 'barked': 574, 'wagged': 575, 'tail': 576, 'hose': 577, 'spray': 578, 'trying': 579, 'wet': 580, 'flute': 581, 'deaf': 582, 'music': 583, 'string': 584, 'ear': 585, 'dance': 586, 'danced': 587, 'gum': 588, 'thin': 589, 'piece': 590, 'pocket': 591, 'save': 592, 'later': 593, 'escape': 594, 'monster': 595, 'chewed': 596, 'caught': 597, 'vest': 598, 'colors': 599, 'rain': 600, 'off': 601, 'weep': 602, 'worry': 603, 'dry': 604, 'toys': 605, 'float': 606, 'hot': 607, 'began': 608, 'miss': 609, 'easy': 610, 'pond': 611, 'able': 612, 'lady': 613, 'pot': 614, 'soup': 615, 'lunch': 616, 'mixed': 617, 'smoke': 618, 'meant': 619, 'touch': 620, 'nervous': 621, 'razor': 622, 'maybe': 623, 'left': 624, 'missed': 625, 'recognized': 626, 'gray': 627, 'elephant': 628, 'elly': 629, 'ugly': 630, 'ears': 631, 'nose': 632, 'benny': 633, 'think': 634, 'promised': 635, 'show': 636, 'use': 637, 'fan': 638, 'own': 639, 'zigzag': 640, 'slide': 641, 'twisted': 642, 'turned': 643, 'embarrassed': 644, 'okay': 645, 'mistakes': 646, 'side': 647, 'chain': 648, 'floor': 649, 'rubbed': 650, 'head': 651, 'leg': 652, 'guilty': 653, 'box': 654, 'curious': 655, 'peek': 656, 'gun': 657, 'pretended': 658, 'saving': 659, 'world': 660, 'hungry': 661, 'kitchen': 662, 'cookies': 663, 'adventures': 664, 'hammer': 665, 'mud': 666, 'stuck': 667, 'delay': 668, 'used': 669, 'path': 670, 'crawl': 671, 'continued': 672, 'empty': 673, 'search': 674, 'pushed': 675, 'into': 676, 'searched': 677, 'closet': 678, 'filled': 679, 'messy': 680, 'binky': 681, 'bush': 682, 'ouch': 683, 'cried': 684, 'cry': 685, 'wrong': 686, 'cute': 687, 'lulu': 688, 'oliver': 689, 'beak': 690, 'carefully': 691, 'cut': 692, 'cheered': 693, 'pink': 694, 'amazing': 695, 'looks': 696, 'nodded': 697, 'talked': 698, 'pieces': 699, 'spoke': 700, 'round': 701, 'shape': 702, 'bright': 703, 'orange': 704, 'color': 705, 'pumpkin': 706, 'clear': 707, 'receive': 708, 'yet': 709, 'grow': 710, 'bigger': 711, 'patient': 712, 'those': 713, 'finally': 714, 'life': 715, 'wide': 716, 'faucet': 717, 'thirsty': 718, 'drank': 719, 'meet': 720, 'moms': 721, 'makes': 722, 'flower': 723, 'bloom': 724, 'flowers': 725, 'goal': 726, 'dangerous': 727, 'watch': 728, 'warned': 729, 'true': 730, 'humble': 731, 'plate': 732, 'ways': 733, 'bedroom': 734, 'fancy': 735, 'window': 736, 'enough': 737, 'stayed': 738, 'live': 739, 'infant': 740, 'birds': 741, 'teddy': 742, 'giving': 743, 'kiss': 744, 'sing': 745, 'watching': 746, 'ice': 747, 'cream': 748, 'ancient': 749, 'truck': 750, 'man': 751, 'taste': 752, 'tasted': 753, 'screamed': 754, 'yuck': 755, 'walked': 756, 'two': 757, 'joe': 758, 'grace': 759, 'balloons': 760, 'badly': 761, 'money': 762, 'bring': 763, 'buy': 764, 'balloon': 765, 'arrived': 766, 'relieved': 767, 'lesson': 768, 'learnt': 769, 'graceful': 770, 'billy': 771, 'looking': 772, 'weigh': 773, 'spoon': 774, 'gathered': 775, 'measured': 776, 'weight': 777, 'celebrate': 778, 'sky': 779, 'clouds': 780, 'spread': 781, 'wings': 782, 'higher': 783, 'flying': 784, 'weighed': 785, 'jack': 786, 'jill': 787, 'hill': 788, 'turns': 789, 'pushing': 790, 'shouted': 791, 'spun': 792, 'dizzy': 793, 'giggled': 794, 'sent': 795, 'high': 796, 'eventually': 797, 'separated': 798, 'worth': 799, 'people': 800, 'climb': 801, 'mountain': 802, 'view': 803, 'reached': 804, 'below': 805, 'noticed': 806, 'available': 807, 'replied': 808, 'care': 809, 'treat': 810, 'respect': 811, 'been': 812, 'given': 813, 'garage': 814, 'wash': 815, 'glue': 816, 'fixed': 817, 'perfect': 818, 'pleased': 819, 'done': 820, 'mommy': 821, 'emily': 822, 'matching': 823, 'games': 824, 'store': 825, 'videos': 826, 'card': 827, 'm': 828, 'getting': 829, 'really': 830, 'sweetheart': 831, 'doing': 832, 'well': 833, 'strange': 834, 'cards': 835, 'closely': 836, 'isn': 837, 'real': 838, 'fake': 839, 'doesn': 840, 'match': 841, 'video': 842, 'instead': 843, 'tell': 844, 'between': 845, 'sandbox': 846, 'unusual': 847, 'lawyer': 848, 'seen': 849, 'before': 850, 'dressed': 851, 'confused': 852, 'eager': 853, 'talk': 854, 'jumping': 855, 'explained': 856, 'strangers': 857, 'talking': 858, 'lucy': 859, 'three': 860, 'years': 861, 'extra': 862, 'mouth': 863, 'blew': 864, 'huge': 865, 'suddenly': 866, 'popped': 867, 'tickled': 868, 'covered': 869, 'ashamed': 870, 'parents': 871, 'cloth': 872, 'wipe': 873, 'charlie': 874, 'stories': 875, 'than': 876, 'anything': 877, 'else': 878, 'delicate': 879, 'dinner': 880, 'wondered': 881, 'touched': 882, 'strawberry': 883, 'does': 884, 'oh': 885, 'll': 886, 'believe': 887, 'table': 888, 'fresh': 889, 'ahead': 890, 'bite': 891, 'delicious': 892, 'cindy': 893, 'milk': 894, 'shopkeeper': 895, 'shelves': 896, 'understand': 897, 'wasn': 898, 'news': 899, 'problem': 900, 'happened': 901, 'already': 902, 'taken': 903, 'shouldn': 904, 'leave': 905, 'bit': 906, 'though': 907, 'counted': 908, 'handed': 909, 'bottle': 910, 'sip': 911, 'annie': 912, 'only': 913, 'energy': 914, 'explore': 915, 'across': 916, 'arrow': 917, 'nosy': 918, 'voice': 919, 'behind': 920, 'name': 921, 'towards': 922, 'may': 923, 'mind': 924, 'advice': 925, 'young': 926, 'peace': 927, 'follow': 928, 'searching': 929, 'clothes': 930, 'dress': 931, 'favourite': 932, 'fit': 933, 'same': 934, 'admire': 935, 'choice': 936, 'tears': 937, 'remembers': 938, 'imagined': 939, 'bob': 940, 'pointed': 941, 'black': 942, 'sounded': 943, 'choose': 944, 'thoughtful': 945, 'using': 946, 'animal': 947, 'alert': 948, 'barely': 949, 'safer': 950, 'noise': 951, 'quickly': 952, 'kitty': 953, 'brush': 954, 'rabbit': 955, 'ella': 956, 'grabbed': 957, 'backpack': 958, 'stepped': 959, 'followed': 960, 'stove': 961, 'unique': 962, 'nobody': 963, 'nowhere': 964, 'magical': 965, 'wishes': 966, 'short': 967, 'caterpillar': 968, 'bill': 969, 'legs': 970, 'exploring': 971, 'bushes': 972, 'crept': 973, 'tough': 974, 'frog': 975, 'blinked': 976, 'nothing': 977, 'fear': 978, 'gets': 979, 'adventure': 980, 'forth': 981, 'matter': 982, 'seemed': 983, 'shop': 984, 'case': 985, 'gems': 986, 'jewels': 987, 'wrapped': 988, 'mum': 989, 'rushed': 990, 'surprised': 991, 'shelf': 992, 'amazed': 993, 'naughty': 994, 'daddy': 995, 'tie': 996, 'dirt': 997, 'soil': 998, 'd': 999, 'ruined': 1000, 'such': 1001, 'jim': 1002, 'barber': 1003, 'haircut': 1004, 'lollipop': 1005, 'frown': 1006, 'disappeared': 1007, 'chair': 1008, 'magic': 1009, 'funny': 1010, 'mirror': 1011, 'forgot': 1012, 'sitting': 1013, 'tilly': 1014, 'rake': 1015, 'cleaning': 1016, 'held': 1017, 'front': 1018, 'icy': 1019, 'steps': 1020, 'herself': 1021, 'moved': 1022, 'against': 1023, 'pile': 1024, 'objects': 1025, 'stood': 1026, 'admired': 1027, 'tidy': 1028, 'adorable': 1029, 'chores': 1030, 'seem': 1031, 'less': 1032, 'nicer': 1033, 'agreement': 1034, 'wiped': 1035, 'valuable': 1036, 'ask': 1037, 'working': 1038, 'easier': 1039, 'brother': 1040, 'sister': 1041, 'interesting': 1042, 'mug': 1043, 'colourful': 1044, 'belonged': 1045, 'creature': 1046, 'steal': 1047, 'obedient': 1048, 'wouldn': 1049, 'allowed': 1050, 'glad': 1051, 'rules': 1052, 'fox': 1053, 'study': 1054, 'sounds': 1055, 'wish': 1056, 'tomorrow': 1057, 'modest': 1058, 'year': 1059, 'squirrel': 1060, 'deer': 1061, 'lovely': 1062, 'waved': 1063, 'journey': 1064, 'jane': 1065, 'powder': 1066, 'gather': 1067, 'us': 1068, 'bucket': 1069, 'cake': 1070, 'jimmy': 1071, 'exclaimed': 1072, 'wants': 1073, 'surprise': 1074, 'shoulder': 1075, 'overjoyed': 1076, 'someone': 1077, 'poor': 1078, 'sadly': 1079, 'clumsy': 1080, 'disagreed': 1081, 'bugs': 1082, 'seek': 1083, 'chasing': 1084, 'snow': 1085, 'radio': 1086, 'nora': 1087, 'nature': 1088, 'meadow': 1089, 'smelled': 1090, 'over': 1091, 'hopped': 1092, 'bent': 1093, 'kissed': 1094, 'taking': 1095, 'beauty': 1096, 'picture': 1097, 'fairy': 1098, 'dreaming': 1099, 'offer': 1100, 'lively': 1101, 'hadn': 1102, 'mother': 1103, 'happening': 1104, 'stay': 1105, 'distance': 1106, 'flame': 1107, 'appeared': 1108, 'answered': 1109, 'permit': 1110, 'promise': 1111, 'arms': 1112, 'warrior': 1113, 'far': 1114, 'sailed': 1115, 'hours': 1116, 'uncomfortable': 1117, 'hurry': 1118, 'faster': 1119, 'sail': 1120, 'breeze': 1121, 'gentle': 1122, 'comfortable': 1123, 'showing': 1124, 'forget': 1125, 'kindness': 1126, 'brightly': 1127, 'everything': 1128, 'excitedly': 1129, 'gasped': 1130, 'grab': 1131, 'sack': 1132, 'twirled': 1133, 'storm': 1134, 'magnet': 1135, 'metal': 1136, 'summer': 1137, 'morning': 1138, 'andy': 1139, 'spiders': 1140, 'crawling': 1141, 'quietly': 1142, 'stones': 1143, 'threw': 1144, 'wealthy': 1145, 'pointing': 1146, 'hoped': 1147, 'carry': 1148, 'heavy': 1149, 'tightly': 1150, 'rest': 1151, 'sudden': 1152, 'trip': 1153, 'turn': 1154, 'coat': 1155, 'frame': 1156, 'rachel': 1157, 'straight': 1158, 'delight': 1159, 'spotted': 1160, 'along': 1161, 'foot': 1162, 'pedal': 1163, 'managed': 1164, 'sunset': 1165, 'mary': 1166, 'eating': 1167, 'sandwich': 1168, 'sparkly': 1169, 'eye': 1170, 'silver': 1171, 'necklace': 1172, 'crawled': 1173, 'branch': 1174, 'woman': 1175, 'yours': 1176, 'realize': 1177, 'lit': 1178, 'chalk': 1179, 'half': 1180, 'anyone': 1181, 'mess': 1182, 'original': 1183, 'refused': 1184, 'knife': 1185, 'cutting': 1186, 'painter': 1187, 'paint': 1188, 'painted': 1189, 'especially': 1190, 'enjoyed': 1191, 'lola': 1192, 'purple': 1193, 'pastry': 1194, 'frosting': 1195, 'harder': 1196, 'creative': 1197, 'farmer': 1198, 'farm': 1199, 'ducks': 1200, 'duck': 1201, 'field': 1202, 'zip': 1203, 'zipping': 1204, 'woke': 1205, 'print': 1206, 'figure': 1207, 'robot': 1208, 'understood': 1209, 'known': 1210, 'zipped': 1211, 'susie': 1212, 'backyard': 1213, 'hidden': 1214, 'peeked': 1215, 'trouble': 1216, 'angry': 1217, 'another': 1218, 'john': 1219, 'discovery': 1220, 'neighbourhood': 1221, 'return': 1222, 'owner': 1223, 'takes': 1224, 'cheerful': 1225, 'set': 1226, 'joy': 1227, 'following': 1228, 'cries': 1229, 'stick': 1230, 'step': 1231, 'rita': 1232, 'part': 1233, 'taught': 1234, 'woods': 1235, 'stumbled': 1236, 'chest': 1237, 'strength': 1238, 'since': 1239, 'enjoying': 1240, 'awe': 1241, 'edge': 1242, 'stronger': 1243, 'lazy': 1244, 'nap': 1245, 'lying': 1246, 'hey': 1247, 'wake': 1248, 'child': 1249, 'move': 1250, 'persistent': 1251, 'lead': 1252, 'grateful': 1253, 'returned': 1254, 'chloe': 1255, 'shake': 1256, 'shaking': 1257, 'happens': 1258, 'whenever': 1259, 'molly': 1260, 'crying': 1261, 'bowed': 1262, 'dropped': 1263, 'asleep': 1264, 'creatures': 1265, 'worries': 1266, 'few': 1267, 'onto': 1268, 'island': 1269, 'hut': 1270, 'nearby': 1271, 'wild': 1272, 'explored': 1273, 'beach': 1274, 'ocean': 1275, 'memories': 1276, 'which': 1277, 'stop': 1278, 'drop': 1279, 'wave': 1280, 'wand': 1281, 'rose': 1282, 'record': 1283, 'older': 1284, 'offered': 1285, 'shook': 1286, 'afraid': 1287, 'stir': 1288, 'stirred': 1289, 'rocks': 1290, 'treasure': 1291, 'candy': 1292, 'group': 1293, 'children': 1294, 'brings': 1295, 'exciting': 1296, 'passport': 1297, 'weird': 1298, 'anywhere': 1299, 'finding': 1300, 'forward': 1301, 'brilliant': 1302, 'quite': 1303, 'sauce': 1304, 'tasty': 1305, 'break': 1306, 'petals': 1307, 'paul': 1308, 'chose': 1309, 'seeds': 1310, 'planted': 1311, 'growing': 1312, 'sell': 1313, 'market': 1314, 'shy': 1315, 'shout': 1316, 'approached': 1317, 'compassionate': 1318, 'pay': 1319, 'luck': 1320, 'upset': 1321, 'sighed': 1322, 'understanding': 1323, 'adventurous': 1324, 'add': 1325, 'discovered': 1326, 'added': 1327, 'wonder': 1328, 'lizard': 1329, 'ladybug': 1330, 'moving': 1331, 'beam': 1332, 'playground': 1333, 'asking': 1334, 'balance': 1335, 'mama': 1336, 'papa': 1337, 'party': 1338, 'revealed': 1339, 'actually': 1340, 'trap': 1341, 'dinosaur': 1342, 'amazement': 1343, 'hang': 1344, 'everyday': 1345, 'hung': 1346, 'corner': 1347, 'breakfast': 1348, 'shoes': 1349, 'tower': 1350, 'spicy': 1351, 'starting': 1352, 'hospital': 1353, 'days': 1354, 'mike': 1355, 'picnic': 1356, 'packed': 1357, 'snacks': 1358, 'beans': 1359, 'blanket': 1360, 'placed': 1361, 'delighted': 1362, 'snack': 1363, 'mel': 1364, 'june': 1365, 'pin': 1366, 'wall': 1367, 'finger': 1368, 'works': 1369, 'minutes': 1370, 'has': 1371, 'power': 1372, 'kite': 1373, 'mean': 1374, 'provide': 1375, 'belong': 1376, 'learn': 1377, 'reminded': 1378, 'soar': 1379, 'however': 1380, 'helpless': 1381, 'nest': 1382, 'settle': 1383, 'wrote': 1384, 'beetle': 1385, 'trunk': 1386, 'playful': 1387, 'puppy': 1388, 'printing': 1389, 'pill': 1390, 'leaf': 1391, 'pale': 1392, 'gem': 1393, 'village': 1394, 'fill': 1395, 'holding': 1396, 'become': 1397, 'bridge': 1398, 'smooth': 1399, 'unfortunately': 1400, 'loudly': 1401, 'landscape': 1402, 'bossy': 1403, 'chipmunk': 1404, 'argue': 1405, 'led': 1406, 'mummy': 1407, 'presents': 1408, 'open': 1409, 'biggest': 1410, 'hope': 1411, 'pass': 1412, 'hanger': 1413, 'rude': 1414, 'feet': 1415, 'skip': 1416, 'mailbox': 1417, 'skipped': 1418, 'knob': 1419, 'tight': 1420, 'twist': 1421, 'ribbons': 1422, 'cheer': 1423, 'faces': 1424, 'scare': 1425, 'gas': 1426, 'mask': 1427, 'knows': 1428, 'oranges': 1429, 'juicy': 1430, 'shine': 1431, 'remain': 1432, 'generous': 1433, 'pirate': 1434, 'intelligent': 1435, 'kid': 1436, 'space': 1437, 'heart': 1438, 'heal': 1439, 'kick': 1440, 'circles': 1441, 'kicked': 1442, 'sleeping': 1443, 'circle': 1444, 'times': 1445, 'pet': 1446, 'bears': 1447, 'prepare': 1448, 'disappointed': 1449, 'saying': 1450, 'father': 1451, 'accept': 1452, 'granny': 1453, 'bought': 1454, 'bury': 1455, 'buried': 1456, 'happiness': 1457, 'daisy': 1458, 'turtle': 1459, 'determined': 1460, 'anna': 1461, 'oak': 1462, 'discover': 1463, 'lights': 1464, 'arm': 1465, 'display': 1466, 'frank': 1467, 'bored': 1468, 'parade': 1469, 'wearing': 1470, 'hats': 1471, 'dancing': 1472, 'singing': 1473, 'frustrated': 1474, 'sight': 1475, 'giant': 1476, 'swing': 1477, 'climbed': 1478, 'seat': 1479, 'swinging': 1480, 'squeeze': 1481, 'miserable': 1482, 'sticks': 1483, 'harbor': 1484, 'ok': 1485, 'phone': 1486, 'fold': 1487, 'folded': 1488, 'butterfly': 1489, 'giggle': 1490, 'folding': 1491, 'stone': 1492, 'itself': 1493, 'swings': 1494, 'urged': 1495, 'feelings': 1496, 'darkness': 1497, 'pack': 1498, 'yourself': 1499, 'safely': 1500, 'checked': 1501, 'helps': 1502, 'daughter': 1503, 'crib': 1504, 'cozy': 1505, 'picking': 1506, 'danny': 1507, 'fearful': 1508, 'lip': 1509, 'leash': 1510, 'whole': 1511, 'busy': 1512, 'basket': 1513, 'carrot': 1514, 'fire': 1515, 'comes': 1516, 'tastes': 1517, 'courage': 1518, 'penny': 1519, 'waist': 1520, 'shut': 1521, 'gate': 1522, 'ringing': 1523, 'bell': 1524, 'slides': 1525, 'telephone': 1526, 'rub': 1527, 'buttons': 1528, 'ring': 1529, 'rubbing': 1530, 'shrimp': 1531, 'expensive': 1532, 'content': 1533, 'ash': 1534, 'alive': 1535, 'needs': 1536, 'raft': 1537, 'air': 1538, 'noises': 1539, 'monkey': 1540, 'james': 1541, 'x': 1542, 'machine': 1543, 'climbing': 1544, 'thinking': 1545, 'message': 1546, 'turkey': 1547, 'engine': 1548, 'alfie': 1549, 'gloomy': 1550, 'curiosity': 1551, 'fingers': 1552, 'skeleton': 1553, 'tells': 1554, 'bathroom': 1555, 'paid': 1556, 'solve': 1557, 'prince': 1558, 'practice': 1559, 'impressed': 1560, 'leaving': 1561, 'practiced': 1562, 'meeting': 1563, 'suggested': 1564, 'create': 1565, 'lucky': 1566, 'lonely': 1567, 'whistle': 1568, 'yelled': 1569, 'living': 1570, 'kate': 1571, 'stuffed': 1572, 'spike': 1573, 'excitement': 1574, 'kinds': 1575, 'mole': 1576, 'cover': 1577, 'wheel': 1578, 'zoom': 1579, 'prize': 1580, 'sally': 1581, 'slept': 1582, 'smiling': 1583, 'bicycle': 1584, 'hairy': 1585, 'push': 1586, 'handle': 1587, 'bike': 1588, 'teeth': 1589, 'growled': 1590, 'brothers': 1591, 'grown': 1592, 'denise': 1593, 'honey': 1594, 'peter': 1595, 'goes': 1596, 'answer': 1597, 'riddle': 1598, 'minute': 1599, 'ones': 1600, 'alice': 1601, 'independent': 1602, 'fridge': 1603, 'bowl': 1604, 'jenny': 1605, 'dust': 1606, 'vine': 1607, 'walls': 1608, 'changed': 1609, 'leaned': 1610, 'filthy': 1611, 'freezer': 1612, 'smell': 1613, 'cleaned': 1614, 'decide': 1615, 'count': 1616, 'counting': 1617, 'cheese': 1618, 'lacy': 1619, 'furry': 1620, 'tv': 1621, 'mine': 1622, 'discovering': 1623, 'protect': 1624, 'danger': 1625, 'chubby': 1626, 'sunshine': 1627, 'hit': 1628, 'grandma': 1629, 'charles': 1630, 'adding': 1631, 'yarn': 1632, 'scarf': 1633, 'afternoon': 1634, 'sang': 1635, 'ben': 1636, 'log': 1637, 'impatient': 1638, 'struggle': 1639, 'skirt': 1640, 'normal': 1641, 'supply': 1642, 'thankful': 1643, 'isabel': 1644, 'ingredients': 1645, 'carrots': 1646, 'celery': 1647, 'henry': 1648, 'hiding': 1649, 'building': 1650, 'myself': 1651, 'song': 1652, 'cloud': 1653, 'yay': 1654, 'organized': 1655, 'drive': 1656, 'helmet': 1657, 'hills': 1658, 'colours': 1659, 'mechanic': 1660, 'frozen': 1661, 'exercise': 1662, 'rare': 1663, 'measure': 1664, 'number': 1665, 'jumps': 1666, 'heads': 1667, 'often': 1668, 'fence': 1669, 'solved': 1670, 'stairs': 1671, 'attic': 1672, 'entered': 1673, 'songs': 1674, 'split': 1675, 'minnie': 1676, 'investigate': 1677, 'send': 1678, 'write': 1679, 'note': 1680, 'simple': 1681, 'wheels': 1682, 'roared': 1683, 'emma': 1684, 'desk': 1685, 'sit': 1686, 'plant': 1687, 'scream': 1688, 'names': 1689, 'married': 1690, 'curtain': 1691, 'hanging': 1692, 'blowing': 1693, 'powerful': 1694, 'stretched': 1695, 'reach': 1696, 'glove': 1697, 'sir': 1698, 'belongs': 1699, 'mystery': 1700, 'thief': 1701, 'calm': 1702, 'breath': 1703, 'attractive': 1704, 'cave': 1705, 'map': 1706, 'dull': 1707, 'sandy': 1708, 'landed': 1709, 'headed': 1710, 'comet': 1711, 'rise': 1712, 'means': 1713, 'appear': 1714, 'kari': 1715, 'blocks': 1716, 'jealous': 1717, 'built': 1718, 'jar': 1719, 'lid': 1720, 'gently': 1721, 'clay': 1722, 'friendship': 1723, 'barn': 1724, 'visited': 1725, 'sock': 1726, 'throw': 1727, 'above': 1728, 'jacky': 1729, 'helicopter': 1730, 'spin': 1731, 'gust': 1732, 'horse': 1733, 'fight': 1734, 'fought': 1735, 'clarissa': 1736, 'grumpy': 1737, 'soldiers': 1738, 'change': 1739, 'chance': 1740, 'blueberry': 1741, 'itch': 1742, 'dirty': 1743, 'foolish': 1744, 'tommy': 1745, 'football': 1746, 'drink': 1747, 'ignorant': 1748, 'neighbor': 1749, 'mrs': 1750, 'stranger': 1751, 'gary': 1752, 'quit': 1753, 'nurse': 1754, 'passed': 1755, 'ladder': 1756, 'slip': 1757, 'slipped': 1758, 'sand': 1759, 'dig': 1760, 'key': 1761, 've': 1762, 'frowned': 1763, 'violin': 1764, 'maisy': 1765, 'mad': 1766, 'feathers': 1767, 'pebble': 1768, 'jam': 1769, 'toast': 1770, 'tummy': 1771, 'wood': 1772, 'bee': 1773, 'frowning': 1774, 'shrink': 1775, 'smart': 1776, 'rough': 1777, 'shocked': 1778, 'realised': 1779, 'honest': 1780, 'skull': 1781, 'licked': 1782, 'bone': 1783, 'sour': 1784, 'rich': 1785, 'chat': 1786, 'chickens': 1787, 'egg': 1788, 'chicken': 1789, 'smiles': 1790, 'rides': 1791, 'stack': 1792, 'hay': 1793, 'wagon': 1794, 'stupid': 1795, 'lifted': 1796, 'sailing': 1797, 'sorts': 1798, 'calling': 1799, 'destroyed': 1800, 'ted': 1801, 'proudly': 1802, 'model': 1803, 'famous': 1804, 'star': 1805, 'claire': 1806, 'earlier': 1807, 'lift': 1808, 'doll': 1809, 'rug': 1810, 'glowed': 1811, 'imagination': 1812, 'candle': 1813, 'rested': 1814, 'clock': 1815, 'trade': 1816, 'useful': 1817, 'ginger': 1818, 'hedge': 1819, 'pilot': 1820, 'plane': 1821, 'rang': 1822, 'saved': 1823, 'curtains': 1824, 'whisper': 1825, 'whispered': 1826, 'crack': 1827, 'freddy': 1828, 'past': 1829, 'waving': 1830, 'sweetie': 1831, 'attention': 1832, 'hugs': 1833, 'rice': 1834, 'carried': 1835, 'snuggled': 1836, 'blankets': 1837, 'pretending': 1838, 'band': 1839, 'belt': 1840, 'enormous': 1841, 'linda': 1842, 'bulb': 1843, 'precious': 1844, 'tricks': 1845, 'thick': 1846, 'bitter': 1847, 'yoga': 1848, 'reading': 1849, 'history': 1850, 'wander': 1851, 'wandered': 1852, 'glowing': 1853, 'floated': 1854, 'boys': 1855, 'bench': 1856, 'regular': 1857, 'block': 1858, 'purse': 1859, 'stand': 1860, 'rescue': 1861, 'splashed': 1862, 'fountain': 1863, 'upstairs': 1864, 'butterflies': 1865, 'weather': 1866, 'crowd': 1867, 'trash': 1868, 'airport': 1869, 'bags': 1870, 'luggage': 1871, 'suitcase': 1872, 'check': 1873, 'flight': 1874, 'boats': 1875, 'act': 1876, 'fair': 1877, 'collect': 1878, 'doves': 1879, 'collecting': 1880, 'dove': 1881, 'beef': 1882, 'tag': 1883, 'stars': 1884, 'jungle': 1885, 'fred': 1886, 'planet': 1887, 'jog': 1888, 'jogged': 1889, 'stamp': 1890, 'borrow': 1891, 'shapes': 1892, 'square': 1893, 'cube': 1894, 'spirit': 1895, 'sophie': 1896, 'behave': 1897, 'mistake': 1898, 'almost': 1899, 'jet': 1900, 'request': 1901, 'invited': 1902, 'emmy': 1903, 'gifted': 1904, 'feels': 1905, 'sees': 1906, 'witch': 1907, 'shooting': 1908, 'apples': 1909, 'shadows': 1910, 'shadow': 1911, 'lines': 1912, 'walks': 1913, 'gives': 1914, 'fur': 1915, 'fragile': 1916, 'fruit': 1917, 'treats': 1918, 'cooking': 1919, 'early': 1920, 'nod': 1921, 'distant': 1922, 'pig': 1923, 'pen': 1924, 'bath': 1925, 'downstairs': 1926, 'nicely': 1927, 'mae': 1928, 'squash': 1929, 'wolf': 1930, 'hop': 1931, 'teasing': 1932, 'dreamed': 1933, 'seed': 1934, 'motorcycle': 1935, 'serious': 1936, 'riding': 1937, 'crayon': 1938, 'questions': 1939, 'leo': 1940, 'jokes': 1941, 'elf': 1942, 'joke': 1943, 'clapping': 1944, 'large': 1945, 'louder': 1946, 'couch': 1947, 'pixie': 1948, 'glass': 1949, 'notice': 1950, 'mail': 1951, 'relaxed': 1952, 'jeep': 1953, 'surrender': 1954, 'sofa': 1955, 'feed': 1956, 'spade': 1957, 'unite': 1958, 'experience': 1959, 'leak': 1960, 'leaks': 1961, 'yawned': 1962, 'crown': 1963, 'leader': 1964, 'letter': 1965, 'noisy': 1966, 'dessert': 1967, 'fighting': 1968, 'urge': 1969, 'cane': 1970, 'fishing': 1971, 'russel': 1972, 'terrible': 1973, 'package': 1974, 'tea': 1975, 'replace': 1976, 'cups': 1977, 'jen': 1978, 'week': 1979, 'bumped': 1980, 'sailor': 1981, 'anchor': 1982, 'observe': 1983, 'hook': 1984, 'mention': 1985, 'sandcastles': 1986, 'bald': 1987, 'acceptor': 1988, 'paw': 1989, 'george': 1990, 'laughter': 1991, 'nodding': 1992, 'paintings': 1993, 'tony': 1994, 'shelter': 1995, 'roof': 1996, 'four': 1997, 'becky': 1998, 'hoping': 1999, 'exit': 2000, 'pool': 2001, 'gina': 2002, 'bubbles': 2003, 'skin': 2004, 'towel': 2005, 'throat': 2006, 'jacket': 2007, 'tied': 2008, 'boring': 2009, 'smells': 2010, 'task': 2011, 'twigs': 2012, 'mill': 2013, 'organize': 2014, 'person': 2015, 'slippery': 2016, 'joined': 2017, 'vase': 2018, 'glow': 2019, 'barrel': 2020, 'thumb': 2021, 'boots': 2022, 'subway': 2023, 'pete': 2024, 'settled': 2025, 'included': 2026, 'blueberries': 2027, 'juice': 2028, 'angel': 2029, 'deliver': 2030, 'wakes': 2031, 'spaghetti': 2032, 'fork': 2033, 'competitive': 2034, 'unhappy': 2035, 'ants': 2036, 'lower': 2037, 'spinning': 2038, 'furniture': 2039, 'oven': 2040, 'baking': 2041, 'blow': 2042, 'holiday': 2043, 'pillows': 2044, 'photo': 2045, 'candles': 2046, 'joey': 2047, 'neck': 2048, 'rope': 2049, 'dead': 2050, 'earth': 2051, 'bows': 2052, 'hold': 2053, 'ripe': 2054, 'pages': 2055, 'zebra': 2056, 'grandbaby': 2057, 'finds': 2058, 'volcano': 2059, 'doctor': 2060, 'ann': 2061, 'polish': 2062, 'tonight': 2063, 'nail': 2064, 'crane': 2065, 'net': 2066, 'eraser': 2067, 'bake': 2068, 'goat': 2069, 'ali': 2070, 'counter': 2071, 'breaks': 2072, 'fireman': 2073, 'pull': 2074, 'stable': 2075, 'guard': 2076, 'sparkled': 2077, 'chew': 2078, 'chocolate': 2079, 'cupboard': 2080, 'simon': 2081, 'travel': 2082, 'owners': 2083, 'torn': 2084, 'cup': 2085, 'tuna': 2086, 'rhinoceros': 2087, 'bounce': 2088, 'deeper': 2089, 'polly': 2090, 'granddad': 2091, 'yucky': 2092, 'herb': 2093, 'medicine': 2094, 'millie': 2095, 'cook': 2096, 'none': 2097, 'restless': 2098, 'umbrella': 2099, 'cushion': 2100, 'dolls': 2101, 'feather': 2102, 'poked': 2103, 'lila': 2104, 'treasures': 2105, 'meri': 2106, 'crazy': 2107, 'rocket': 2108, 'moon': 2109, 'liquid': 2110, 'plastic': 2111, 'avocado': 2112, 'during': 2113, 'josh': 2114, 'nightmare': 2115, 'lions': 2116, 'vanished': 2117, 'impressive': 2118, 'jake': 2119, 'bouncy': 2120, 'scissors': 2121, 'tank': 2122, 'spilled': 2123, 'somewhere': 2124, 'mighty': 2125, 'planes': 2126, 'cookie': 2127, 'raise': 2128, 'sugar': 2129, 'raised': 2130, 'plays': 2131, 'velvet': 2132, 'shows': 2133, 'laundry': 2134, 'towers': 2135, 'accidentally': 2136, 'ornaments': 2137, 'lose': 2138, 'milly': 2139, 'sandwiches': 2140, 'bread': 2141, 'marry': 2142, 'statue': 2143, 'leticia': 2144, 'examine': 2145, 'low': 2146, 'lion': 2147, 'page': 2148, 'yacht': 2149, 'beehive': 2150, 'tape': 2151, 'mixer': 2152, 'church': 2153, 'rag': 2154, 'factory': 2155, 'machines': 2156, 'piano': 2157, 'puff': 2158, 'eggs': 2159, 'hippo': 2160, 'shoe': 2161, 'elderly': 2162, 'papers': 2163, 'armchair': 2164, 'traffic': 2165, 'lilly': 2166, 'soap': 2167, 'anny': 2168, 'train': 2169, 'jerry': 2170, 'stream': 2171, 'equipment': 2172, 'banana': 2173, 'guess': 2174, 'fruits': 2175, 'aid': 2176, 'shark': 2177, 'yell': 2178, 'jellyfish': 2179, 'flashlight': 2180, 'microscope': 2181, 'tray': 2182, 'mint': 2183, 'trophy': 2184, 'lock': 2185, 'puzzle': 2186, 'grandpa': 2187, 'camera': 2188, 'skipping': 2189, 'houses': 2190, 'cone': 2191, 'bus': 2192, 'flag': 2193, 'nemo': 2194, 'police': 2195, 'argued': 2196, 'draw': 2197, 'letters': 2198, 'snowy': 2199, 'slid': 2200, 'taller': 2201, 'soccer': 2202, 'zoo': 2203, 'modern': 2204, 'brownie': 2205, 'studying': 2206, 'firemen': 2207, 'dough': 2208, 'forgive': 2209, 'apologized': 2210, 'coats': 2211, 'cocoa': 2212, 'washing': 2213, 'helper': 2214, 'says': 2215, 'reaches': 2216, 'tweet': 2217, 'flies': 2218, 'likes': 2219, 'frogs': 2220, 'roar': 2221, 'follows': 2222, 'runs': 2223, 'wraps': 2224, 'sticker': 2225, 'bye': 2226, 'sara': 2227, 'puts': 2228, 'starts': 2229, 'hears': 2230, 'grabs': 2231, 'shakes': 2232, 'spit': 2233, 'tries': 2234, 'tutor': 2235, 'lee': 2236, 'drawing': 2237, 'cow': 2238, 'sheep': 2239, 'crayons': 2240, 'nods': 2241, 'thinks': 2242, 'picks': 2243, 'dots': 2244, 'wags': 2245, 'doggy': 2246, 'barks': 2247, 'asks': 2248, 'collar': 2249, 'dogs': 2250, 'decides': 2251, 'peanut': 2252, 'cracker': 2253, 'stops': 2254, 'locked': 2255, 'knock': 2256, 'station': 2257, 'skips': 2258, 'holds': 2259, 'falls': 2260, 'ow': 2261, 'oats': 2262, 'twins': 2263, 'tug': 2264, 'swims': 2265, 'opens': 2266, 'tent': 2267, 'leopard': 2268, 'throws': 2269, 'stickers': 2270, 'sizes': 2271, 'crash': 2272, 'crackers': 2273, 'seeker': 2274, 'hider': 2275, 'ten': 2276, 'boo': 2277, 'dancer': 2278, 'pours': 2279, 'laughs': 2280, 'apologize': 2281, 'trucks': 2282, 'drawings': 2283, 'corn': 2284, 'washed': 2285, 'sink': 2286, 'sings': 2287, 'repeats': 2288, 'screams': 2289, 'pushes': 2290, 'balls': 2291, 'knight': 2292, 'mailman': 2293, 'cushions': 2294, 'yeah': 2295, 'apple': 2296, 'marbles': 2297, 'marble': 2298, 'flour': 2299, 'pan': 2300, 'team': 2301, 'rubs': 2302, 'sting': 2303, 'prunes': 2304, 'mmm': 2305, 'signed': 2306, 'lamp': 2307, 'cabin': 2308, 'king': 2309, 'kings': 2310, 'queens': 2311, 'chamber': 2312, 'lemonade': 2313, 'lemon': 2314, 'masks': 2315, 'loops': 2316, 'stadium': 2317, 'buzz': 2318, 'bees': 2319, 'sunrise': 2320, 'reads': 2321, 'pulls': 2322, 'blows': 2323, 'veil': 2324, 'cartoons': 2325, 'class': 2326, 'cage': 2327, 'dragon': 2328, 'cart': 2329, 'opera': 2330, 'monkeys': 2331, 'berry': 2332, 'stirs': 2333, 'patch': 2334, 'vehicle': 2335, 'mittens': 2336, 'belts': 2337, 'butter': 2338, 'cop': 2339, 'uniform': 2340, 'whip': 2341, 'painting': 2342, 'officer': 2343, 'rosie': 2344, 'bull': 2345, 'makeup': 2346, 'mimi': 2347, 'gained': 2348, 'beard': 2349, 'tour': 2350, 'circus': 2351, 'groom': 2352, 'computer': 2353, 'vroom': 2354, 'sponge': 2355, 'cooler': 2356, 'shoo': 2357, 'maze': 2358, 'trick': 2359, 'pit': 2360, 'spark': 2361, 'buckle': 2362, 'canvas': 2363, 'score': 2364, 'fetch': 2365, 'jewelry': 2366, 'firefly': 2367, 'basement': 2368, 'diary': 2369, 'license': 2370, 'telescope': 2371, 'office': 2372, 'penguin': 2373, 'marching': 2374, 'march': 2375, 'mule': 2376, 'ticket': 2377, 'east': 2378, 'whoosh': 2379, 'salad': 2380, 'clue': 2381, 'olives': 2382, 'olive': 2383, 'snake': 2384, 'honk': 2385, 'raccoon': 2386, 'waste': 2387, 'floppy': 2388, 'bongo': 2389, 'folder': 2390, 'tweety': 2391, 'jolly': 2392, 'roxy': 2393, 'alligator': 2394, 'buzzy': 2395, 'toot': 2396, 'sammy': 2397, 'wife': 2398, 'pip': 2399, 'johnny': 2400, 'bookcase': 2401, 'ducky': 2402, 'otto': 2403, 'finny': 2404, 'fishes': 2405, 'peach': 2406}\n"
     ]
    }
   ],
   "source": [
    "print(len(vocab))\n",
    "\n",
    "print(vocab)"
   ]
  },
  {
   "cell_type": "code",
   "execution_count": 101,
   "metadata": {},
   "outputs": [
    {
     "name": "stderr",
     "output_type": "stream",
     "text": [
      "Encoding train stories: 100%|██████████| 1059/1059 [00:00<00:00, 24318.47it/s]\n"
     ]
    },
    {
     "name": "stderr",
     "output_type": "stream",
     "text": [
      "Encoding val stories: 100%|██████████| 109/109 [00:00<00:00, 9884.53it/s]\n"
     ]
    }
   ],
   "source": [
    "index_train_stories = []\n",
    "padded_train_stories = []\n",
    "index_val_stories = []\n",
    "padded_val_stories = []\n",
    "\n",
    "for story in tqdm(train_stories, desc='Encoding train stories'):\n",
    "    index_story = [vocab.get(word, vocab['<unk>']) for word in story]\n",
    "    new_story = story[:MAX_SEQ_LEN]\n",
    "    new_story = new_story + ['<pad>'] * (MAX_SEQ_LEN - len(new_story))\n",
    "    \n",
    "    if len(index_story) > MAX_SEQ_LEN:\n",
    "        index_story = index_story[:MAX_SEQ_LEN]\n",
    "    else:\n",
    "        index_story = index_story + [vocab['<pad>']] * (MAX_SEQ_LEN - len(index_story))\n",
    "\n",
    "    index_train_stories.append(index_story)\n",
    "    padded_train_stories.append(new_story)\n",
    "\n",
    "for story in tqdm(val_stories, desc='Encoding val stories'):\n",
    "    index_story = [vocab.get(word, vocab['<unk>']) for word in story]\n",
    "    new_story = story[:MAX_SEQ_LEN]\n",
    "    new_story = new_story + ['<pad>'] * (MAX_SEQ_LEN - len(new_story))\n",
    "\n",
    "    if len(index_story) > MAX_SEQ_LEN:\n",
    "        index_story = index_story[:MAX_SEQ_LEN]\n",
    "    else:\n",
    "        index_story = index_story + [vocab['<pad>']] * (MAX_SEQ_LEN - len(index_story))\n",
    "\n",
    "    index_val_stories.append(index_story)\n",
    "    padded_val_stories.append(new_story)"
   ]
  },
  {
   "cell_type": "code",
   "execution_count": 102,
   "metadata": {},
   "outputs": [
    {
     "name": "stdout",
     "output_type": "stream",
     "text": [
      "[0, 69, 70, 6, 71, 72, 19, 6, 7, 73, 9, 74, 74, 75, 21, 76, 77, 36, 22, 13, 28, 78, 74, 19, 6, 79, 73, 24, 80, 81, 67, 82, 83, 82, 83, 84, 74, 66, 36, 85, 4, 5, 74, 19, 86, 13, 28, 87, 88, 80, 89, 6, 90, 91, 28, 91, 67, 92, 93, 94, 56, 95, 74, 96, 97, 28, 93, 98, 36, 26, 21, 22, 23, 55, 74, 99, 100, 28, 91, 36, 101, 28, 93, 98, 33, 102, 80, 103, 36, 3, 104, 3, 74, 105, 23, 28, 95, 93, 106, 5, 88, 18, 19, 71, 21, 76, 107, 74, 17, 80, 108, 109, 83, 80, 35, 21, 28, 83, 110, 36, 111, 109, 79, 83, 112, 74, 19, 113, 21, 76, 77, 36, 22, 114, 28, 115, 5, 36, 74, 116, 117, 118, 61, 1, 2, 2, 2, 2, 2, 2, 2, 2, 2, 2, 2, 2, 2, 2, 2, 2, 2, 2, 2, 2, 2, 2, 2, 2, 2, 2, 2, 2, 2, 2, 2, 2, 2, 2, 2, 2, 2, 2, 2, 2, 2, 2, 2, 2, 2, 2, 2, 2, 2, 2, 2, 2, 2, 2, 2, 2, 2, 2, 2, 2, 2, 2, 2, 2, 2, 2, 2, 2, 2, 2, 2, 2, 2, 2, 2, 2, 2, 2, 2, 2, 2, 2, 2, 2, 2, 2, 2, 2, 2, 2, 2, 2, 2, 2, 2, 2, 2, 2, 2, 2, 2, 2, 2, 2, 2, 2, 2, 2, 2, 2, 2, 2, 2, 2, 2, 2, 2, 2, 2, 2, 2, 2, 2, 2, 2, 2, 2, 2, 2, 2, 2, 2, 2, 2, 2, 2, 2, 2, 2, 2, 2, 2, 2, 2, 2, 2, 2, 2, 2, 2, 2, 2, 2, 2, 2, 2, 2, 2, 2, 2, 2, 2, 2, 2, 2, 2, 2, 2, 2, 2, 2, 2, 2, 2, 2, 2, 2, 2, 2, 2, 2, 2, 2, 2, 2, 2, 2, 2, 2, 2, 2, 2, 2, 2, 2, 2, 2, 2, 2, 2, 2, 2, 2, 2, 2, 2, 2, 2, 2, 2, 2, 2, 2, 2, 2, 2, 2, 2, 2, 2, 2, 2, 2, 2, 2, 2, 2, 2, 2, 2, 2, 2, 2, 2, 2, 2, 2, 2, 2, 2, 2, 2, 2, 2, 2, 2, 2, 2, 2, 2, 2, 2, 2, 2, 2, 2, 2, 2, 2, 2, 2, 2, 2, 2, 2, 2, 2, 2, 2, 2, 2, 2, 2, 2, 2, 2, 2, 2, 2, 2, 2, 2, 2, 2, 2, 2, 2, 2, 2, 2, 2, 2, 2, 2, 2, 2, 2, 2, 2, 2, 2, 2, 2, 2, 2, 2, 2, 2, 2, 2, 2, 2, 2, 2, 2, 2, 2, 2, 2, 2, 2, 2, 2, 2, 2, 2, 2, 2, 2, 2, 2, 2, 2, 2, 2, 2, 2, 2, 2, 2, 2, 2, 2, 2, 2, 2, 2, 2, 2, 2, 2, 2, 2, 2, 2, 2, 2, 2, 2, 2, 2, 2, 2, 2, 2, 2, 2, 2]\n",
      "['<bos>', 'once', 'upon', 'a', 'time', 'there', 'was', 'a', 'little', 'car', 'named', 'beep', 'beep', 'loved', 'to', 'go', 'fast', 'and', 'play', 'in', 'the', 'sun', 'beep', 'was', 'a', 'healthy', 'car', 'because', 'he', 'always', 'had', 'good', 'fuel', 'good', 'fuel', 'made', 'beep', 'happy', 'and', 'strong', 'one', 'day', 'beep', 'was', 'driving', 'in', 'the', 'park', 'when', 'he', 'saw', 'a', 'big', 'tree', 'the', 'tree', 'had', 'many', 'leaves', 'that', 'were', 'falling', 'beep', 'liked', 'how', 'the', 'leaves', 'fall', 'and', 'wanted', 'to', 'play', 'with', 'them', 'beep', 'drove', 'under', 'the', 'tree', 'and', 'watched', 'the', 'leaves', 'fall', 'on', 'him', 'he', 'laughed', 'and', 'beeped', 'his', 'horn', 'beep', 'played', 'with', 'the', 'falling', 'leaves', 'all', 'day', 'when', 'it', 'was', 'time', 'to', 'go', 'home', 'beep', 'knew', 'he', 'needed', 'more', 'fuel', 'he', 'went', 'to', 'the', 'fuel', 'place', 'and', 'got', 'more', 'healthy', 'fuel', 'now', 'beep', 'was', 'ready', 'to', 'go', 'fast', 'and', 'play', 'again', 'the', 'next', 'day', 'and', 'beep', 'lived', 'happily', 'ever', 'after', '<eos>', '<pad>', '<pad>', '<pad>', '<pad>', '<pad>', '<pad>', '<pad>', '<pad>', '<pad>', '<pad>', '<pad>', '<pad>', '<pad>', '<pad>', '<pad>', '<pad>', '<pad>', '<pad>', '<pad>', '<pad>', '<pad>', '<pad>', '<pad>', '<pad>', '<pad>', '<pad>', '<pad>', '<pad>', '<pad>', '<pad>', '<pad>', '<pad>', '<pad>', '<pad>', '<pad>', '<pad>', '<pad>', '<pad>', '<pad>', '<pad>', '<pad>', '<pad>', '<pad>', '<pad>', '<pad>', '<pad>', '<pad>', '<pad>', '<pad>', '<pad>', '<pad>', '<pad>', '<pad>', '<pad>', '<pad>', '<pad>', '<pad>', '<pad>', '<pad>', '<pad>', '<pad>', '<pad>', '<pad>', '<pad>', '<pad>', '<pad>', '<pad>', '<pad>', '<pad>', '<pad>', '<pad>', '<pad>', '<pad>', '<pad>', '<pad>', '<pad>', '<pad>', '<pad>', '<pad>', '<pad>', '<pad>', '<pad>', '<pad>', '<pad>', '<pad>', '<pad>', '<pad>', '<pad>', '<pad>', '<pad>', '<pad>', '<pad>', '<pad>', '<pad>', '<pad>', '<pad>', '<pad>', '<pad>', '<pad>', '<pad>', '<pad>', '<pad>', '<pad>', '<pad>', '<pad>', '<pad>', '<pad>', '<pad>', '<pad>', '<pad>', '<pad>', '<pad>', '<pad>', '<pad>', '<pad>', '<pad>', '<pad>', '<pad>', '<pad>', '<pad>', '<pad>', '<pad>', '<pad>', '<pad>', '<pad>', '<pad>', '<pad>', '<pad>', '<pad>', '<pad>', '<pad>', '<pad>', '<pad>', '<pad>', '<pad>', '<pad>', '<pad>', '<pad>', '<pad>', '<pad>', '<pad>', '<pad>', '<pad>', '<pad>', '<pad>', '<pad>', '<pad>', '<pad>', '<pad>', '<pad>', '<pad>', '<pad>', '<pad>', '<pad>', '<pad>', '<pad>', '<pad>', '<pad>', '<pad>', '<pad>', '<pad>', '<pad>', '<pad>', '<pad>', '<pad>', '<pad>', '<pad>', '<pad>', '<pad>', '<pad>', '<pad>', '<pad>', '<pad>', '<pad>', '<pad>', '<pad>', '<pad>', '<pad>', '<pad>', '<pad>', '<pad>', '<pad>', '<pad>', '<pad>', '<pad>', '<pad>', '<pad>', '<pad>', '<pad>', '<pad>', '<pad>', '<pad>', '<pad>', '<pad>', '<pad>', '<pad>', '<pad>', '<pad>', '<pad>', '<pad>', '<pad>', '<pad>', '<pad>', '<pad>', '<pad>', '<pad>', '<pad>', '<pad>', '<pad>', '<pad>', '<pad>', '<pad>', '<pad>', '<pad>', '<pad>', '<pad>', '<pad>', '<pad>', '<pad>', '<pad>', '<pad>', '<pad>', '<pad>', '<pad>', '<pad>', '<pad>', '<pad>', '<pad>', '<pad>', '<pad>', '<pad>', '<pad>', '<pad>', '<pad>', '<pad>', '<pad>', '<pad>', '<pad>', '<pad>', '<pad>', '<pad>', '<pad>', '<pad>', '<pad>', '<pad>', '<pad>', '<pad>', '<pad>', '<pad>', '<pad>', '<pad>', '<pad>', '<pad>', '<pad>', '<pad>', '<pad>', '<pad>', '<pad>', '<pad>', '<pad>', '<pad>', '<pad>', '<pad>', '<pad>', '<pad>', '<pad>', '<pad>', '<pad>', '<pad>', '<pad>', '<pad>', '<pad>', '<pad>', '<pad>', '<pad>', '<pad>', '<pad>', '<pad>', '<pad>', '<pad>', '<pad>', '<pad>', '<pad>', '<pad>', '<pad>', '<pad>', '<pad>', '<pad>', '<pad>', '<pad>', '<pad>', '<pad>', '<pad>', '<pad>', '<pad>', '<pad>', '<pad>', '<pad>', '<pad>', '<pad>', '<pad>', '<pad>', '<pad>', '<pad>', '<pad>', '<pad>', '<pad>', '<pad>', '<pad>', '<pad>', '<pad>', '<pad>', '<pad>', '<pad>', '<pad>', '<pad>', '<pad>', '<pad>', '<pad>', '<pad>', '<pad>', '<pad>', '<pad>', '<pad>', '<pad>', '<pad>', '<pad>', '<pad>', '<pad>', '<pad>', '<pad>', '<pad>', '<pad>', '<pad>', '<pad>', '<pad>', '<pad>', '<pad>', '<pad>', '<pad>', '<pad>', '<pad>', '<pad>', '<pad>', '<pad>', '<pad>', '<pad>', '<pad>', '<pad>', '<pad>', '<pad>', '<pad>', '<pad>', '<pad>', '<pad>', '<pad>', '<pad>', '<pad>', '<pad>', '<pad>', '<pad>', '<pad>', '<pad>', '<pad>', '<pad>', '<pad>', '<pad>', '<pad>']\n"
     ]
    }
   ],
   "source": [
    "print(index_train_stories[1])\n",
    "print(padded_train_stories[1])"
   ]
  },
  {
   "cell_type": "code",
   "execution_count": 106,
   "metadata": {},
   "outputs": [],
   "source": [
    "class Small_Transformers_Dataset(Dataset):\n",
    "    def __init__(self, index_stories, vocab):\n",
    "        self.index_stories = index_stories\n",
    "        self.vocab = vocab\n",
    "\n",
    "    def __len__(self):\n",
    "        return len(self.index_stories)\n",
    "    \n",
    "    def __getitem__(self, idx):\n",
    "        story = self.index_stories[idx]\n",
    "        story_shifted = story[1:] + [self.vocab['<pad>']]\n",
    "\n",
    "        return torch.tensor(story), torch.tensor(story_shifted)"
   ]
  },
  {
   "cell_type": "code",
   "execution_count": 107,
   "metadata": {},
   "outputs": [],
   "source": [
    "dataset = Small_Transformers_Dataset(index_train_stories, vocab)"
   ]
  },
  {
   "cell_type": "code",
   "execution_count": 108,
   "metadata": {},
   "outputs": [],
   "source": [
    "dataloader = DataLoader(dataset, batch_size=32, shuffle=True)"
   ]
  }
 ],
 "metadata": {
  "kernelspec": {
   "display_name": "inlp",
   "language": "python",
   "name": "python3"
  },
  "language_info": {
   "codemirror_mode": {
    "name": "ipython",
    "version": 3
   },
   "file_extension": ".py",
   "mimetype": "text/x-python",
   "name": "python",
   "nbconvert_exporter": "python",
   "pygments_lexer": "ipython3",
   "version": "3.9.18"
  }
 },
 "nbformat": 4,
 "nbformat_minor": 2
}
